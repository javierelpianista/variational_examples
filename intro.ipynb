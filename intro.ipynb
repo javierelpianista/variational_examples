{
 "cells": [
  {
   "cell_type": "markdown",
   "metadata": {},
   "source": [
    "# Introducción a la programación en Python y a los notebooks Jupyter\n",
    "Python es un lenguaje de programación interpretado. Esto quiere decir que hay un programa que lee el código escrito en tiempo real y lo interpreta.\n",
    "Los notebooks Jupyter son una manera conveniente de ejecutar código Python ya que tienen una interfaz online y no es necesario instalar nada.\n",
    "El notebook Jupyter está compuesto por celdas. Cada celda puede contener texto o código. Esta celda por ejemplo tiene solo texto. \n",
    "En la siguiente escribiremos nuestra primer línea de código, en la cual pedimos que el programa nos escriba un mensaje en pantalla. Para ejecutar una celda hay que apretar `shift + enter`."
   ]
  },
  {
   "cell_type": "code",
   "execution_count": 1,
   "metadata": {},
   "outputs": [
    {
     "name": "stdout",
     "output_type": "stream",
     "text": [
      "Hola!!!\n"
     ]
    }
   ],
   "source": [
    "print('Hola!!!')"
   ]
  },
  {
   "cell_type": "markdown",
   "metadata": {},
   "source": [
    "## Tipos de datos\n",
    "Los tipos de datos son atributos que permiten al programador/programa interpretar cómo será usada la información. Cada lenguaje de programación tiene varios tipos de datos; Python en particular tiene muchísimos, pero algunos de ellos son:\n",
    "* integer: Este tipo de datos se usa para guardar números enteros. Por ejemplo, `3` es un número entero.\n",
    "* float: Se usa para guardar números con coma. Por ejemplo, `3.1` es un float.\n",
    "* string: Se usa para guardar texto. Por ejemplo, `'Hola!!!'` es una string. En Python, las strings siempre tienen que estar rodeadas de single quotes (`'`) o double quotes (`\"`)\n",
    "Para saber a qué tipo de dato se refiere una expresión, podemos usar la palabra clave `type`"
   ]
  },
  {
   "cell_type": "code",
   "execution_count": 2,
   "metadata": {},
   "outputs": [
    {
     "data": {
      "text/plain": [
       "int"
      ]
     },
     "execution_count": 2,
     "metadata": {},
     "output_type": "execute_result"
    }
   ],
   "source": [
    "type(3)"
   ]
  },
  {
   "cell_type": "code",
   "execution_count": 3,
   "metadata": {},
   "outputs": [
    {
     "data": {
      "text/plain": [
       "float"
      ]
     },
     "execution_count": 3,
     "metadata": {},
     "output_type": "execute_result"
    }
   ],
   "source": [
    "type(3.1)"
   ]
  },
  {
   "cell_type": "code",
   "execution_count": 4,
   "metadata": {},
   "outputs": [
    {
     "data": {
      "text/plain": [
       "str"
      ]
     },
     "execution_count": 4,
     "metadata": {},
     "output_type": "execute_result"
    }
   ],
   "source": [
    "type('Hola')"
   ]
  },
  {
   "cell_type": "markdown",
   "metadata": {},
   "source": [
    "## Variables\n",
    "Las variables permiten asignarle nombres a los datos a los que el programa tiene acceso. En la mayoría de los lenguajes de programación, incluido Python, la asignación de variables se hace con el símbolo `=`. Por ejemplo:"
   ]
  },
  {
   "cell_type": "code",
   "execution_count": 5,
   "metadata": {},
   "outputs": [],
   "source": [
    "saludo = 'Hola!!!'"
   ]
  },
  {
   "cell_type": "code",
   "execution_count": 6,
   "metadata": {},
   "outputs": [],
   "source": [
    "a = 3"
   ]
  },
  {
   "cell_type": "code",
   "execution_count": 7,
   "metadata": {},
   "outputs": [],
   "source": [
    "b = 3.2"
   ]
  },
  {
   "cell_type": "code",
   "execution_count": 8,
   "metadata": {},
   "outputs": [
    {
     "data": {
      "text/plain": [
       "int"
      ]
     },
     "execution_count": 8,
     "metadata": {},
     "output_type": "execute_result"
    }
   ],
   "source": [
    "type(a)"
   ]
  },
  {
   "cell_type": "code",
   "execution_count": 9,
   "metadata": {},
   "outputs": [
    {
     "data": {
      "text/plain": [
       "float"
      ]
     },
     "execution_count": 9,
     "metadata": {},
     "output_type": "execute_result"
    }
   ],
   "source": [
    "type(b)"
   ]
  },
  {
   "cell_type": "code",
   "execution_count": 10,
   "metadata": {},
   "outputs": [
    {
     "name": "stdout",
     "output_type": "stream",
     "text": [
      "Hola!!!\n"
     ]
    }
   ],
   "source": [
    "print(saludo)"
   ]
  },
  {
   "cell_type": "markdown",
   "metadata": {},
   "source": [
    "Los lenguajes de programación están preparados para manipular variables. Existen varias operaciones que se pueden hacer con ellas, dependiendo de su tipo de datos. Por ejemplo, Python sabe sumar integers:"
   ]
  },
  {
   "cell_type": "code",
   "execution_count": 11,
   "metadata": {},
   "outputs": [
    {
     "name": "stdout",
     "output_type": "stream",
     "text": [
      "5\n"
     ]
    }
   ],
   "source": [
    "print(2+3)"
   ]
  },
  {
   "cell_type": "markdown",
   "metadata": {},
   "source": [
    "También sabe sumar integers con floats (no cualquier lenguaje puede hacer esto)"
   ]
  },
  {
   "cell_type": "code",
   "execution_count": 12,
   "metadata": {},
   "outputs": [
    {
     "name": "stdout",
     "output_type": "stream",
     "text": [
      "4.3\n"
     ]
    }
   ],
   "source": [
    "a = 2\n",
    "b = 2.3\n",
    "print(a + b)"
   ]
  },
  {
   "cell_type": "markdown",
   "metadata": {},
   "source": [
    "También sabe sumar strings:"
   ]
  },
  {
   "cell_type": "code",
   "execution_count": 13,
   "metadata": {},
   "outputs": [
    {
     "name": "stdout",
     "output_type": "stream",
     "text": [
      "Química Teórica y Computacional\n"
     ]
    }
   ],
   "source": [
    "s1 = 'Química '\n",
    "s2 = 'Teórica '\n",
    "s3 = 'y Computacional'\n",
    "message = s1 + s2 + s3\n",
    "print(message)"
   ]
  },
  {
   "cell_type": "markdown",
   "metadata": {},
   "source": [
    "Pero no sabe sumar strings con integers. En este caso tira error, básicamente me está diciendo \"No se sumar str con int\"."
   ]
  },
  {
   "cell_type": "code",
   "execution_count": 14,
   "metadata": {},
   "outputs": [
    {
     "ename": "TypeError",
     "evalue": "can only concatenate str (not \"int\") to str",
     "output_type": "error",
     "traceback": [
      "\u001b[1;31m---------------------------------------------------------------------------\u001b[0m",
      "\u001b[1;31mTypeError\u001b[0m                                 Traceback (most recent call last)",
      "\u001b[1;32m<ipython-input-14-c0ecd47b20a2>\u001b[0m in \u001b[0;36m<module>\u001b[1;34m\u001b[0m\n\u001b[0;32m      2\u001b[0m \u001b[0mb\u001b[0m \u001b[1;33m=\u001b[0m \u001b[1;36m2\u001b[0m\u001b[1;33m\u001b[0m\u001b[1;33m\u001b[0m\u001b[0m\n\u001b[0;32m      3\u001b[0m \u001b[0mc\u001b[0m \u001b[1;33m=\u001b[0m \u001b[1;34m'alumnos'\u001b[0m\u001b[1;33m\u001b[0m\u001b[1;33m\u001b[0m\u001b[0m\n\u001b[1;32m----> 4\u001b[1;33m \u001b[0mmessage\u001b[0m \u001b[1;33m=\u001b[0m \u001b[0ma\u001b[0m \u001b[1;33m+\u001b[0m \u001b[0mb\u001b[0m \u001b[1;33m+\u001b[0m \u001b[0mc\u001b[0m\u001b[1;33m\u001b[0m\u001b[1;33m\u001b[0m\u001b[0m\n\u001b[0m",
      "\u001b[1;31mTypeError\u001b[0m: can only concatenate str (not \"int\") to str"
     ]
    }
   ],
   "source": [
    "a = 'Este año hay '\n",
    "b = 2\n",
    "c = 'alumnos'\n",
    "message = a + b + c"
   ]
  },
  {
   "cell_type": "markdown",
   "metadata": {},
   "source": [
    "Lo que tenemos que hacer es convertir el número en str para que Python los pueda sumar. Eso se hace con la función `str`."
   ]
  },
  {
   "cell_type": "code",
   "execution_count": 15,
   "metadata": {},
   "outputs": [
    {
     "name": "stdout",
     "output_type": "stream",
     "text": [
      "Este año hay 2 alumnos\n"
     ]
    }
   ],
   "source": [
    "a = 'Este año hay '\n",
    "b = 2\n",
    "c = ' alumnos'\n",
    "message = a + str(b) + c\n",
    "print(message)"
   ]
  },
  {
   "cell_type": "markdown",
   "metadata": {},
   "source": [
    "## Funciones\n",
    "Las funciones nos permiten guardar pedazos de código, de manera de facilitar la escritura en caso de que queramos realizar acciones repetidas. En Python las funciones pueden tomar un número arbitrario de variables de entrada y devolver un número arbitrario de variables de cualquier tipo. \n",
    "Las funciones se definen con la palabra `def`, y devuelven valores con el comando `return`. Este último es optativo.\n",
    "\n",
    "Por ejemplo, podemos escribir una función que no tome ninguna variable de entrada, escriba un mensaje en pantalla y no devuelva nada:"
   ]
  },
  {
   "cell_type": "code",
   "execution_count": 16,
   "metadata": {},
   "outputs": [],
   "source": [
    "def saludo():\n",
    "    print(\"Hola!!!\")"
   ]
  },
  {
   "cell_type": "markdown",
   "metadata": {},
   "source": [
    "Notemos que luego de la línea `def saludo():` dejamos cuatro espacios para escribir el resto del código. Esto es porque Python es un lenguaje que fuerza la indentación, lo que quiere decir que todo lo que esté metido dentro de una definición tiene que dejar al menos cuatro espacios. Los notebooks Jupyter indentan automáticamente.\n",
    "\n",
    "Ahora podemos llamar a la función simplemente escribiendo su nombre y las variables de entrada entre paréntesis (en este caso no lleva ninguna)."
   ]
  },
  {
   "cell_type": "code",
   "execution_count": 17,
   "metadata": {},
   "outputs": [
    {
     "name": "stdout",
     "output_type": "stream",
     "text": [
      "Hola!!!\n"
     ]
    }
   ],
   "source": [
    "saludo()"
   ]
  },
  {
   "cell_type": "markdown",
   "metadata": {},
   "source": [
    "Ahora podemos modificar nuestra función para que salude a una persona en particular. "
   ]
  },
  {
   "cell_type": "code",
   "execution_count": 18,
   "metadata": {},
   "outputs": [],
   "source": [
    "def saludo(nombre):\n",
    "    print('Hola ' + nombre + '!!!')"
   ]
  },
  {
   "cell_type": "code",
   "execution_count": 19,
   "metadata": {},
   "outputs": [
    {
     "name": "stdout",
     "output_type": "stream",
     "text": [
      "Hola Javier!!!\n"
     ]
    }
   ],
   "source": [
    "saludo('Javier')"
   ]
  },
  {
   "cell_type": "markdown",
   "metadata": {},
   "source": [
    "No le puedo pasar cualquier cosa a una función. Los tipos de datos tienen que ser consistentes con lo que la función va a hacer con ellos. "
   ]
  },
  {
   "cell_type": "code",
   "execution_count": 20,
   "metadata": {},
   "outputs": [
    {
     "ename": "TypeError",
     "evalue": "can only concatenate str (not \"int\") to str",
     "output_type": "error",
     "traceback": [
      "\u001b[1;31m---------------------------------------------------------------------------\u001b[0m",
      "\u001b[1;31mTypeError\u001b[0m                                 Traceback (most recent call last)",
      "\u001b[1;32m<ipython-input-20-c4ae0c96321e>\u001b[0m in \u001b[0;36m<module>\u001b[1;34m\u001b[0m\n\u001b[1;32m----> 1\u001b[1;33m \u001b[0msaludo\u001b[0m\u001b[1;33m(\u001b[0m\u001b[1;36m4\u001b[0m\u001b[1;33m)\u001b[0m\u001b[1;33m\u001b[0m\u001b[1;33m\u001b[0m\u001b[0m\n\u001b[0m",
      "\u001b[1;32m<ipython-input-18-03f1dd5a3a70>\u001b[0m in \u001b[0;36msaludo\u001b[1;34m(nombre)\u001b[0m\n\u001b[0;32m      1\u001b[0m \u001b[1;32mdef\u001b[0m \u001b[0msaludo\u001b[0m\u001b[1;33m(\u001b[0m\u001b[0mnombre\u001b[0m\u001b[1;33m)\u001b[0m\u001b[1;33m:\u001b[0m\u001b[1;33m\u001b[0m\u001b[1;33m\u001b[0m\u001b[0m\n\u001b[1;32m----> 2\u001b[1;33m     \u001b[0mprint\u001b[0m\u001b[1;33m(\u001b[0m\u001b[1;34m'Hola '\u001b[0m \u001b[1;33m+\u001b[0m \u001b[0mnombre\u001b[0m \u001b[1;33m+\u001b[0m \u001b[1;34m'!!!'\u001b[0m\u001b[1;33m)\u001b[0m\u001b[1;33m\u001b[0m\u001b[1;33m\u001b[0m\u001b[0m\n\u001b[0m",
      "\u001b[1;31mTypeError\u001b[0m: can only concatenate str (not \"int\") to str"
     ]
    }
   ],
   "source": [
    "saludo(4)"
   ]
  },
  {
   "cell_type": "markdown",
   "metadata": {},
   "source": [
    "Se les ocurre alguna manera de modificar la función anterior para hacerla \"a prueba de tontos\" y que el comando `saludo(4)` escriba `Hola 4!!!` en pantalla?"
   ]
  },
  {
   "cell_type": "markdown",
   "metadata": {},
   "source": [
    "La siguiente función devuelve $f(x) = 2x^2 + x + 1$, dado $x$ (el operador `**` es el operador potencia. En algunos lenguajes de programación se usa el símbolo `^`, pero en Python este símbolo tiene un significado diferente)."
   ]
  },
  {
   "cell_type": "code",
   "execution_count": 21,
   "metadata": {},
   "outputs": [],
   "source": [
    "def f(x):\n",
    "    return 2*x**2 + x + 1"
   ]
  },
  {
   "cell_type": "code",
   "execution_count": 22,
   "metadata": {},
   "outputs": [
    {
     "data": {
      "text/plain": [
       "11"
      ]
     },
     "execution_count": 22,
     "metadata": {},
     "output_type": "execute_result"
    }
   ],
   "source": [
    "f(2)"
   ]
  },
  {
   "cell_type": "code",
   "execution_count": 23,
   "metadata": {},
   "outputs": [
    {
     "data": {
      "text/plain": [
       "22"
      ]
     },
     "execution_count": 23,
     "metadata": {},
     "output_type": "execute_result"
    }
   ],
   "source": [
    "f(3)"
   ]
  },
  {
   "cell_type": "markdown",
   "metadata": {},
   "source": [
    "## Listas\n",
    "Las listas son un tipo de datos que se usa para contener secuencias de variables. Se las define usando corchetes. Por ejemplo, podemos hacer una lista de compras:"
   ]
  },
  {
   "cell_type": "code",
   "execution_count": 24,
   "metadata": {},
   "outputs": [],
   "source": [
    "compras = ['tomate', 'lechuga', 'zanahoria', 'huevos']"
   ]
  },
  {
   "cell_type": "markdown",
   "metadata": {},
   "source": [
    "Para acceder a un elemento de la lista, usamos la siguiente sintaxis:"
   ]
  },
  {
   "cell_type": "code",
   "execution_count": 25,
   "metadata": {},
   "outputs": [
    {
     "name": "stdout",
     "output_type": "stream",
     "text": [
      "lechuga\n"
     ]
    }
   ],
   "source": [
    "print(compras[1])"
   ]
  },
  {
   "cell_type": "code",
   "execution_count": 26,
   "metadata": {},
   "outputs": [
    {
     "name": "stdout",
     "output_type": "stream",
     "text": [
      "zanahoria\n"
     ]
    }
   ],
   "source": [
    "print(compras[2])"
   ]
  },
  {
   "cell_type": "code",
   "execution_count": 27,
   "metadata": {},
   "outputs": [
    {
     "name": "stdout",
     "output_type": "stream",
     "text": [
      "tomate\n"
     ]
    }
   ],
   "source": [
    "print(compras[0])"
   ]
  },
  {
   "cell_type": "code",
   "execution_count": 28,
   "metadata": {},
   "outputs": [
    {
     "ename": "IndexError",
     "evalue": "list index out of range",
     "output_type": "error",
     "traceback": [
      "\u001b[1;31m---------------------------------------------------------------------------\u001b[0m",
      "\u001b[1;31mIndexError\u001b[0m                                Traceback (most recent call last)",
      "\u001b[1;32m<ipython-input-28-04cd1facc8ad>\u001b[0m in \u001b[0;36m<module>\u001b[1;34m\u001b[0m\n\u001b[1;32m----> 1\u001b[1;33m \u001b[0mprint\u001b[0m\u001b[1;33m(\u001b[0m\u001b[0mcompras\u001b[0m\u001b[1;33m[\u001b[0m\u001b[1;36m4\u001b[0m\u001b[1;33m]\u001b[0m\u001b[1;33m)\u001b[0m\u001b[1;33m\u001b[0m\u001b[1;33m\u001b[0m\u001b[0m\n\u001b[0m",
      "\u001b[1;31mIndexError\u001b[0m: list index out of range"
     ]
    }
   ],
   "source": [
    "print(compras[4])"
   ]
  },
  {
   "cell_type": "markdown",
   "metadata": {},
   "source": [
    "Las listas pueden combinar cualquier tipo de datos (esto es una ventaja de Python con respecto a la mayoría de los lenguajes de programación, en los cuales las listas solo pueden contener un único tipo de datos)."
   ]
  },
  {
   "cell_type": "code",
   "execution_count": 29,
   "metadata": {},
   "outputs": [],
   "source": [
    "lista_sin_sentido = ['zanahoria', 4, 3.5 + 18]"
   ]
  },
  {
   "cell_type": "code",
   "execution_count": 30,
   "metadata": {},
   "outputs": [
    {
     "name": "stdout",
     "output_type": "stream",
     "text": [
      "['zanahoria', 4, 21.5]\n"
     ]
    }
   ],
   "source": [
    "print(lista_sin_sentido)"
   ]
  },
  {
   "cell_type": "markdown",
   "metadata": {},
   "source": [
    "Existen funciones que generan listas automáticamente. Una de ellas es `range`, que sirve para generar una lista de números (técnicamente, `range` devuelve un iterable, no una lista. Usamos el comando `list` para transformar el iterable en lista; esto es necesario para imprimir la lista, pero no para otras aplicaciones, como veremos en un instante)."
   ]
  },
  {
   "cell_type": "code",
   "execution_count": 31,
   "metadata": {},
   "outputs": [
    {
     "name": "stdout",
     "output_type": "stream",
     "text": [
      "[1, 2, 3, 4, 5, 6, 7, 8, 9, 10]\n"
     ]
    }
   ],
   "source": [
    "lista = list(range(1,11))\n",
    "print(lista)"
   ]
  },
  {
   "cell_type": "markdown",
   "metadata": {},
   "source": [
    "## Bucles (loops)\n",
    "Los bucles son un aspecto muy importante de la programación. En el caso de Python, nos permiten iterar sobre los llamados \"iterables\" y realizar acciones sobre ellos.\n",
    "Los bucles se definen con el comando `for`. Por ejemplo, podemos iterar sobre nuestra lista de compras:"
   ]
  },
  {
   "cell_type": "code",
   "execution_count": 32,
   "metadata": {},
   "outputs": [
    {
     "name": "stdout",
     "output_type": "stream",
     "text": [
      "tomate\n",
      "lechuga\n",
      "zanahoria\n",
      "huevos\n"
     ]
    }
   ],
   "source": [
    "for verdura in compras:\n",
    "    print(verdura)"
   ]
  },
  {
   "cell_type": "markdown",
   "metadata": {},
   "source": [
    "También podemos iterar sobre un rango de números. Por ejemplo:"
   ]
  },
  {
   "cell_type": "code",
   "execution_count": 33,
   "metadata": {},
   "outputs": [
    {
     "name": "stdout",
     "output_type": "stream",
     "text": [
      "1\n",
      "2\n",
      "3\n",
      "4\n",
      "5\n",
      "6\n",
      "7\n",
      "8\n",
      "9\n",
      "10\n"
     ]
    }
   ],
   "source": [
    "for x in range(1, 11):\n",
    "    print(x)"
   ]
  },
  {
   "cell_type": "markdown",
   "metadata": {},
   "source": [
    "Hasta ahora solo venimos imprimiendo cosas en pantalla. Los bucles tienen infinidad de aplicaciones. Una muy sencilla es, por ejemplo, sumar los números del 1 al 10 (Nótese que el comando `print` no está indentado porque "
   ]
  },
  {
   "cell_type": "code",
   "execution_count": 34,
   "metadata": {},
   "outputs": [
    {
     "name": "stdout",
     "output_type": "stream",
     "text": [
      "55\n"
     ]
    }
   ],
   "source": [
    "suma = 0\n",
    "for n in range(1, 11):\n",
    "    suma = suma + n\n",
    "print(suma)"
   ]
  },
  {
   "cell_type": "markdown",
   "metadata": {},
   "source": [
    "## Control de flujo\n",
    "El control de flujo en lenguajes de programación permite que nuestro programa haga cosas diferentes dependiendo de ciertas condiciones.\n",
    "Uno de los comandos de control de flujo mas importantes es el conjunto de comandos `if/elif/else`, que nos permite realizar una u otra acción dependiendo si se cumple una condición o no. \n",
    "Por ejemplo:"
   ]
  },
  {
   "cell_type": "code",
   "execution_count": 35,
   "metadata": {},
   "outputs": [
    {
     "name": "stdout",
     "output_type": "stream",
     "text": [
      "4 es menor que 5\n"
     ]
    }
   ],
   "source": [
    "a = 4\n",
    "if a < 5: \n",
    "    print(str(a) + ' es menor que 5')\n",
    "elif a == 5:\n",
    "    print(str(a) + ' es igual a 5')\n",
    "else:\n",
    "    print(str(a) + ' es mayor que 5')"
   ]
  },
  {
   "cell_type": "markdown",
   "metadata": {},
   "source": [
    "Notemos que para preguntar si una variable es igual a otra necesitamos usar dos signos `=`. Esto se debe a que un solo signo `=` está reservado para la asignación de variables. También se puede preguntar si un número es mayor o igual `>=`, menor o igual, `<=`, o diferente `!=` de otro.\n",
    "Ahora podemos meter el comando anterior adentro de una función y usarla repetidamente mediante un bucle:"
   ]
  },
  {
   "cell_type": "code",
   "execution_count": 36,
   "metadata": {},
   "outputs": [
    {
     "name": "stdout",
     "output_type": "stream",
     "text": [
      "0 es menor que 5\n",
      "1 es menor que 5\n",
      "2 es menor que 5\n",
      "3 es menor que 5\n",
      "4 es menor que 5\n",
      "5 es igual a 5\n",
      "6 es mayor que 5\n",
      "7 es mayor que 5\n",
      "8 es mayor que 5\n",
      "9 es mayor que 5\n"
     ]
    }
   ],
   "source": [
    "def comparar_con_5(a):\n",
    "    if a < 5: \n",
    "        print(str(a) + ' es menor que 5')\n",
    "    elif a == 5:\n",
    "        print(str(a) + ' es igual a 5')\n",
    "    else:\n",
    "        print(str(a) + ' es mayor que 5')\n",
    "        \n",
    "for n in range(10):\n",
    "    comparar_con_5(n)"
   ]
  },
  {
   "cell_type": "markdown",
   "metadata": {},
   "source": [
    "Podemos programar algo mas útil, como la función $\\delta_{mn}$, por ejemplo:"
   ]
  },
  {
   "cell_type": "code",
   "execution_count": 37,
   "metadata": {},
   "outputs": [
    {
     "name": "stdout",
     "output_type": "stream",
     "text": [
      "delta(4,5):  0\n",
      "delta(3,3):  1\n"
     ]
    }
   ],
   "source": [
    "def delta(m, n):\n",
    "    if m == n:\n",
    "        return 1\n",
    "    else:\n",
    "        return 0\n",
    "    \n",
    "print('delta(4,5): ', delta(4,5))\n",
    "print('delta(3,3): ', delta(3,3))\n"
   ]
  }
 ],
 "metadata": {
  "kernelspec": {
   "display_name": "Python 3",
   "language": "python",
   "name": "python3"
  },
  "language_info": {
   "codemirror_mode": {
    "name": "ipython",
    "version": 3
   },
   "file_extension": ".py",
   "mimetype": "text/x-python",
   "name": "python",
   "nbconvert_exporter": "python",
   "pygments_lexer": "ipython3",
   "version": "3.8.5"
  }
 },
 "nbformat": 4,
 "nbformat_minor": 4
}
